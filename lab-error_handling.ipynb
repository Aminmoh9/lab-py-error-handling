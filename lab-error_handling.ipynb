{
 "cells": [
  {
   "cell_type": "markdown",
   "metadata": {},
   "source": [
    "# LAB | Error Handling in Python\n",
    "\n",
    "## Overview\n",
    "This exercise notebook will help you practice error handling in Python using exceptions. You will write programs that handle various types of exceptions to ensure your code runs smoothly and handles errors gracefully."
   ]
  },
  {
   "cell_type": "markdown",
   "metadata": {},
   "source": [
    "### Exercise 1: Handle ZeroDivisionError\n",
    "Write a Python program to handle a `ZeroDivisionError` exception when dividing a number by zero.\n"
   ]
  },
  {
   "cell_type": "code",
   "execution_count": 99,
   "metadata": {},
   "outputs": [
    {
     "name": "stdout",
     "output_type": "stream",
     "text": [
      "Error: cannot divide by Zero!\n"
     ]
    }
   ],
   "source": [
    "# Your code here\n",
    "def divide_numbers(numerator, denominator):\n",
    "    numerator = 10\n",
    "    denominator = 0\n",
    "    try:\n",
    "        result = numerator / denominator\n",
    "        print(f\"The result is:\", result)\n",
    "    except ZeroDivisionError:\n",
    "        print(\"Error: cannot divide by Zero!\")\n",
    "\n",
    "divide_numbers(numerator,denominator)"
   ]
  },
  {
   "cell_type": "markdown",
   "metadata": {},
   "source": [
    "\n",
    "### Exercise 2: Raise ValueError for Invalid Input\n",
    "Write a Python program that prompts the user to input an integer and raises a `ValueError` exception if the input is not a valid integer.\n",
    "\n"
   ]
  },
  {
   "cell_type": "code",
   "execution_count": 107,
   "metadata": {},
   "outputs": [
    {
     "name": "stdout",
     "output_type": "stream",
     "text": [
      "Value Error: nvalid input! Please enter a valid integer.\n"
     ]
    }
   ],
   "source": [
    "# Your code here\n",
    "def get_integer_input(num):\n",
    "    try: \n",
    "        #Convert input to integer\n",
    "        return int(input(num))\n",
    "    except ValueError:\n",
    "        raise ValueError (\"Invalid input! Please enter a valid integer.\")\n",
    "def main():\n",
    "    try:\n",
    "        #Prompting user for input\n",
    "        num=get_integer_input(\"Enter an integer:\")\n",
    "        print(f\"You entered the integer:\", num)\n",
    "    except ValueError as e:\n",
    "         print(\"Value Error:\",e)\n",
    "main()"
   ]
  },
  {
   "cell_type": "markdown",
   "metadata": {},
   "source": [
    "\n",
    "\n",
    "### Exercise 3: Handle FileNotFoundError\n",
    "Write a Python program that opens a file and handles a `FileNotFoundError` exception if the file does not exist.\n",
    "\n"
   ]
  },
  {
   "cell_type": "code",
   "execution_count": 112,
   "metadata": {},
   "outputs": [
    {
     "name": "stdout",
     "output_type": "stream",
     "text": [
      " File content: Hello World!\n"
     ]
    }
   ],
   "source": [
    "\n",
    "# Your code here\n",
    "def read_file():\n",
    "    try: \n",
    "        with open('C:\\\\Users\\\\Amin\\\\Documents\\\\Lab_error_handling.txt', 'r') as f:\n",
    "          content = f.read()\n",
    "          print(f\" File content:\", content)\n",
    "    except FileNotFoundError:\n",
    "          print(\"Error: File not found!\")\n",
    "\n",
    "read_file()"
   ]
  },
  {
   "cell_type": "code",
   "execution_count": 113,
   "metadata": {},
   "outputs": [
    {
     "name": "stdout",
     "output_type": "stream",
     "text": [
      "Error: File not found!\n"
     ]
    }
   ],
   "source": [
    "def read_file():\n",
    "    try: \n",
    "        with open('C:\\\\Users\\\\Amin\\\\Documents\\\\Lab_error_handling3.txt', 'r') as f:\n",
    "          content = f.read()\n",
    "          print(f\" File content:\", content)\n",
    "    except FileNotFoundError:\n",
    "          print(\"Error: File not found!\")\n",
    "\n",
    "read_file()\n"
   ]
  },
  {
   "cell_type": "markdown",
   "metadata": {},
   "source": [
    "\n",
    "\n",
    "### Exercise 4: Raise TypeError for Non-Numerical Input\n",
    "Write a Python program that prompts the user to input two numbers and raises a `TypeError` exception if the inputs are not numerical.\n",
    "\n"
   ]
  },
  {
   "cell_type": "code",
   "execution_count": 115,
   "metadata": {},
   "outputs": [
    {
     "name": "stdout",
     "output_type": "stream",
     "text": [
      "Type Erorr: Both inputs must be numerical.\n"
     ]
    }
   ],
   "source": [
    "def get_number_input(num):\n",
    "    \n",
    "    try:\n",
    "       #Convert the string into float\n",
    "    \n",
    "       return float(input(num))\n",
    "    except ValueError:\n",
    "        raise TypeError (\"Both inputs must be numerical.\")\n",
    "    \n",
    "def main():\n",
    "    try:\n",
    "       num1=get_number_input(\"Enter the first number:\")\n",
    "       num2=get_number_input(\"Enter the second number:\")\n",
    "       print(f\" The sum of {num1} and {num2} is {num1 + num2}.\")\n",
    "\n",
    "    except TypeError as e:\n",
    "        print(f\"Type Erorr:\",e)\n",
    "\n",
    "main()"
   ]
  },
  {
   "cell_type": "markdown",
   "metadata": {},
   "source": [
    "\n",
    "\n",
    "### Exercise 5: Handle PermissionError\n",
    "Write a Python program that opens a file and handles a `PermissionError` exception if there is a permission issue.\n",
    "\n",
    "\n"
   ]
  },
  {
   "cell_type": "code",
   "execution_count": 117,
   "metadata": {},
   "outputs": [
    {
     "name": "stdout",
     "output_type": "stream",
     "text": [
      "Permission Error: You don't have permission to modify the file.\n"
     ]
    }
   ],
   "source": [
    "# Your code here\n",
    "def write():\n",
    "    try:\n",
    "        with open('C:\\\\Users\\\\Amin\\\\Documents\\\\Lab_error_handling_2.txt', 'w') as f:\n",
    "     \n",
    "          f.write(\"Ironhack!\") #Trying to write Ironhack in the file.\n",
    "        \n",
    "    except PermissionError: # File is read-only.\n",
    "          print(f\"Permission Error: You don't have permission to modify the file.\")\n",
    "write()"
   ]
  },
  {
   "cell_type": "markdown",
   "metadata": {},
   "source": [
    "\n",
    "\n",
    "### Exercise 6: Handle IndexError in List Operations\n",
    "Write a Python program that executes an operation on a list and handles an `IndexError` exception if the index is out of range.\n",
    "\n",
    "\n"
   ]
  },
  {
   "cell_type": "code",
   "execution_count": 124,
   "metadata": {},
   "outputs": [
    {
     "name": "stdout",
     "output_type": "stream",
     "text": [
      "Index error: The index is out of range.\n"
     ]
    }
   ],
   "source": [
    "# Your code here\n",
    "def access_element():\n",
    "    list = [1, 2, 3, 4, 5, 6, 7, 8, 9, 10]\n",
    "    try:\n",
    "        index = int(input(\"Enter the index number: \"))\n",
    "        element = list[index]\n",
    "        print(f\"You entered index number {index}, the element associated with the index is: {element}.\")\n",
    "    except IndexError:\n",
    "        print(\"Index error: The index is out of range.\")\n",
    "    except ValueError:\n",
    "        print(\"Value error: Please enter a valid integer.\")\n",
    "    \n",
    "access_element()"
   ]
  },
  {
   "cell_type": "markdown",
   "metadata": {},
   "source": [
    "\n",
    "\n",
    "### Exercise 7: Handle KeyboardInterrupt Exception\n",
    "Write a Python program that prompts the user to input a number and handles a `KeyboardInterrupt` exception if the user cancels the input.\n",
    "\n"
   ]
  },
  {
   "cell_type": "code",
   "execution_count": 136,
   "metadata": {},
   "outputs": [
    {
     "name": "stdout",
     "output_type": "stream",
     "text": [
      "Value Error: Invalid input! Please enter a valid number.\n"
     ]
    }
   ],
   "source": [
    "def get_number_input():\n",
    "    try:\n",
    "        input_number = input(\"Please enter a number: \")\n",
    "        return float(input_number)\n",
    "    \n",
    "    except KeyboardInterrupt:  #KeyboardInterrupt does not work in Jupyeter Notebook. \n",
    "                               # It works if it is a python script running in a terminal not in a text editor.\n",
    "                               # To exit the program Esc button can be used.\n",
    "                               #However it won't trigger the error message.\n",
    "         print(\"\\nError: You interrupted the input by pressing ctrl+ c.\")\n",
    "         return None\n",
    "    except ValueError:\n",
    "         print(\"Value Error: Invalid input! Please enter a valid number.\")\n",
    "         return None\n",
    "def main():\n",
    "     \n",
    "     input_number=get_number_input()\n",
    "     if input_number is not None:\n",
    "       print(f\"You entered the number:\", input_number)\n",
    "\n",
    "main()\n",
    "  "
   ]
  },
  {
   "cell_type": "markdown",
   "metadata": {},
   "source": [
    "\n",
    "\n",
    "### Exercise 8: Handle ArithmeticError\n",
    "Write a Python program that executes division and handles an `ArithmeticError` exception if there is an arithmetic error.\n",
    "\n"
   ]
  },
  {
   "cell_type": "code",
   "execution_count": 139,
   "metadata": {},
   "outputs": [
    {
     "name": "stdout",
     "output_type": "stream",
     "text": [
      "An Arithmatic error occurred: division by zero\n"
     ]
    }
   ],
   "source": [
    "# Your code here\n",
    "def devision(numerator,denominator):\n",
    "    try: \n",
    "        result= numerator/denominator\n",
    "        print(f\"The result of {numerator} divided by {denominator} is :\", result)\n",
    "    except ArithmeticError as e:\n",
    "\n",
    "        print(f\"An Arithmatic error occurred:\",e)\n",
    "    \n",
    "devision(10,0)"
   ]
  },
  {
   "cell_type": "code",
   "execution_count": 141,
   "metadata": {},
   "outputs": [
    {
     "name": "stdout",
     "output_type": "stream",
     "text": [
      "The result of 5.0 divided by 2.0 is : 2.5\n"
     ]
    }
   ],
   "source": [
    "try: \n",
    "    numerator = float(input(\"Enter the numerator: \"))  \n",
    "    denominator = float(input(\"Enter the denominator: \")) \n",
    "    result= numerator/denominator\n",
    "    print(f\"The result of {numerator} divided by {denominator} is :\", result)\n",
    "except ArithmeticError as e:\n",
    "     print(f\"An Arithmatic error occurred:\",e)\n",
    "\n"
   ]
  },
  {
   "cell_type": "markdown",
   "metadata": {},
   "source": [
    "\n",
    "\n",
    "### Exercise 9: Handle UnicodeDecodeError\n",
    "Write a Python program that opens a file and handles a `UnicodeDecodeError` exception if there is an encoding issue.\n",
    "\n"
   ]
  },
  {
   "cell_type": "code",
   "execution_count": 153,
   "metadata": {},
   "outputs": [
    {
     "name": "stdout",
     "output_type": "stream",
     "text": [
      "Unicode Decode Error:\n",
      "Unable to decode the file due to encoding issues.\n",
      "Details: 'utf-8' codec can't decode byte 0xc0 in position 0: invalid start byte\n"
     ]
    }
   ],
   "source": [
    "# Your code here\n",
    "def read_file():\n",
    "    try: \n",
    "        with open('C:\\\\Users\\\\Amin\\\\Documents\\\\Lab_error_handling_4.txt', 'r') as f:\n",
    "          content = f.read()\n",
    "          print(f\" File content:\", content)\n",
    "    except FileNotFoundError:\n",
    "          print(\"Error: File not found!\")\n",
    "    except UnicodeDecodeError as e:\n",
    "          print(f\"Unicode Decode Error:\\nUnable to decode the file due to encoding issues.\\nDetails: {e}\")\n",
    "\n",
    "read_file()"
   ]
  },
  {
   "cell_type": "markdown",
   "metadata": {},
   "source": [
    "\n",
    "\n",
    "### Exercise 10: Handle AttributeError\n",
    "Write a Python program that executes an operation on an object and handles an `AttributeError` exception if the attribute does not exist.\n",
    "\n"
   ]
  },
  {
   "cell_type": "code",
   "execution_count": 160,
   "metadata": {},
   "outputs": [],
   "source": [
    "# Your code here\n",
    "class University:\n",
    "    def __init__(self, name):\n",
    "        self.name = name\n",
    "        self.departments = []\n",
    "\n",
    "    def add_departments(self, department_name):\n",
    "        self.departments.append(department_name)\n",
    "\n",
    "    def university_details(self):\n",
    "        print(f\"University Name:\", self.name)\n",
    "        \n",
    "        try:\n",
    "            print(f\"University Location:\", self.location)\n",
    "        \n",
    "        except AttributeError as e:\n",
    "            print(\"Error:\", e)\n",
    "        try:\n",
    "            print(f\"University Departments:\")\n",
    "            for department in self.departments:\n",
    "                print(f\"- {department}\")\n",
    "\n",
    "        except AttributeError as e:\n",
    "            print(\"Error:\", e)\n"
   ]
  },
  {
   "cell_type": "code",
   "execution_count": 162,
   "metadata": {},
   "outputs": [
    {
     "name": "stdout",
     "output_type": "stream",
     "text": [
      "University Name: CalTech\n",
      "Error: 'University' object has no attribute 'location'\n",
      "University Departments:\n",
      "- Computer Science\n",
      "- Physics\n",
      "- Chemistry\n"
     ]
    }
   ],
   "source": [
    "university=University(\"CalTech\")\n",
    "\n",
    "university.add_departments(\"Computer Science\")\n",
    "university.add_departments(\"Physics\")\n",
    "university.add_departments(\"Chemistry\")\n",
    "\n",
    "\n",
    "university.university_details()\n",
    "\n"
   ]
  },
  {
   "cell_type": "markdown",
   "metadata": {},
   "source": [
    "\n",
    "\n",
    "## Bonus Exercises\n",
    "\n",
    "### Bonus Exercise 1: Handle Multiple Exceptions\n",
    "Write a Python program that demonstrates handling multiple exceptions in one block.\n",
    "\n",
    "\n"
   ]
  },
  {
   "cell_type": "code",
   "execution_count": 169,
   "metadata": {},
   "outputs": [
    {
     "name": "stdout",
     "output_type": "stream",
     "text": [
      "An error occured: list index out of range\n"
     ]
    }
   ],
   "source": [
    "# Your code here\n",
    "def multiple_exceptions():\n",
    "    try: \n",
    "        list=[1,2,3,4,5]\n",
    "        print(list[10]) #IndexError\n",
    "\n",
    "        number1= 10\n",
    "        number2= \"2\"\n",
    "        print(f\"Sum of {number1} and {number2} is {number1+number2}.\") #TypeError\n",
    "\n",
    "        personal_info={\"name\":\"Amin\",\"city\":\"Hannover\"}\n",
    "        print(personal_info[\"age\"]) #KeyError\n",
    "\n",
    "        num1=10\n",
    "        num2=0\n",
    "        result=10/0\n",
    "        print(f\"The result is:\",result) #ZeroDivisionError\n",
    "\n",
    "    except(IndexError, TypeError, KeyError, ZeroDivisionError) as e:\n",
    "        print(f\"An error occured:\",e)\n",
    "\n",
    "\n",
    "multiple_exceptions()"
   ]
  },
  {
   "cell_type": "markdown",
   "metadata": {},
   "source": [
    "\n",
    "\n",
    "### Bonus Exercise 2: Create Custom Exception\n",
    "Create a custom exception class and raise it in your code when certain conditions are met.\n",
    "\n",
    "\n"
   ]
  },
  {
   "cell_type": "code",
   "execution_count": 184,
   "metadata": {},
   "outputs": [
    {
     "name": "stdout",
     "output_type": "stream",
     "text": [
      "An exception is caught: The index 5 cannot be accessed in my_list.\n"
     ]
    }
   ],
   "source": [
    "# Your code here\n",
    "class MycustomException(Exception):\n",
    "    def __init__(self, message=\"This is a custom exception\"):\n",
    "        super().__init__(message)\n",
    "\n",
    "try:\n",
    "    my_list = [1, 2, 3, 4, 5]\n",
    "    index = 5\n",
    "    if index < len(my_list):\n",
    "        print(f\"Accessing index {index}: Element at index {index} is {my_list[index]}.\")\n",
    "    else:\n",
    "        raise MycustomException(f\"The index {index} cannot be accessed in my_list.\")\n",
    "\n",
    "except MycustomException as e:\n",
    "    print(f\"An exception is caught: {e}\")"
   ]
  },
  {
   "cell_type": "markdown",
   "metadata": {},
   "source": [
    "\n",
    "\n",
    "### Bonus Exercise 3: Validate User Input with Exception Handling\n",
    "Write a program that repeatedly prompts the user for valid input until they provide it, using exception handling to manage invalid inputs.\n",
    "\n"
   ]
  },
  {
   "cell_type": "code",
   "execution_count": 189,
   "metadata": {},
   "outputs": [
    {
     "name": "stdout",
     "output_type": "stream",
     "text": [
      "Invalid input, please enter a valid number.\n",
      "Invalid input, please enter a valid number.\n",
      "Invalid input, please enter a valid number.\n",
      "You entered a valid number:6\n"
     ]
    }
   ],
   "source": [
    "# Your code here\n",
    "def get_user_input():\n",
    "    while True:\n",
    "        try:\n",
    "            user_input=input(\"Please enter a number:\")\n",
    "            user_number=int(user_input)\n",
    "            print(f\"You entered a valid number:{user_number}\")\n",
    "            break\n",
    "        \n",
    "        except ValueError:\n",
    "            print(f\"Invalid input, please enter a valid number.\")\n",
    "\n",
    "get_user_input()"
   ]
  },
  {
   "cell_type": "markdown",
   "metadata": {},
   "source": [
    "\n",
    "\n",
    "### Bonus Exercise 4: Log Errors to File\n",
    "Modify your error handling to log errors to a text file instead of printing them to the console.\n",
    "\n"
   ]
  },
  {
   "cell_type": "code",
   "execution_count": 10,
   "metadata": {},
   "outputs": [],
   "source": [
    "# Your code here"
   ]
  },
  {
   "cell_type": "markdown",
   "metadata": {},
   "source": [
    "\n",
    "\n",
    "### Bonus Exercise 5: Retry Logic on Exception\n",
    "Implement retry logic for operations that could fail, allowing users to try again after encountering an error.\n",
    "\n"
   ]
  },
  {
   "cell_type": "code",
   "execution_count": null,
   "metadata": {},
   "outputs": [],
   "source": [
    "# Your code here"
   ]
  }
 ],
 "metadata": {
  "kernelspec": {
   "display_name": "base",
   "language": "python",
   "name": "python3"
  },
  "language_info": {
   "codemirror_mode": {
    "name": "ipython",
    "version": 3
   },
   "file_extension": ".py",
   "mimetype": "text/x-python",
   "name": "python",
   "nbconvert_exporter": "python",
   "pygments_lexer": "ipython3",
   "version": "3.12.7"
  }
 },
 "nbformat": 4,
 "nbformat_minor": 2
}
